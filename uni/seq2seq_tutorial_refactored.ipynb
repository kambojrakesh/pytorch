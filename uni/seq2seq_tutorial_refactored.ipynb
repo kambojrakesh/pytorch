{
 "cells": [
  {
   "cell_type": "markdown",
   "metadata": {
    "id": "NLjpbXW5DRBB"
   },
   "source": [
    "# Seq2Seq model and Evaluation metric - Machine Translation"
   ]
  },
  {
   "cell_type": "markdown",
   "metadata": {
    "id": "4yMxWc16DRBE"
   },
   "source": [
    "### Tutorial Topics\n",
    "- Machine Translation:\n",
    "    - Seq2Seq model\n",
    "    - Evaluation metric\n",
    "\n",
    "### Software Requirements\n",
    "- Python (>=3.6)\n",
    "- PyTorch (>=1.2.0) \n",
    "- Jupyter (latest)\n",
    "- torchtext\n",
    "- NLTK"
   ]
  },
  {
   "cell_type": "code",
   "execution_count": 4,
   "metadata": {},
   "outputs": [],
   "source": [
    "#!pip install google.colab"
   ]
  },
  {
   "cell_type": "code",
   "execution_count": null,
   "metadata": {
    "colab": {
     "base_uri": "https://localhost:8080/"
    },
    "id": "YoUOTMQF4_QQ",
    "outputId": "b8ca4bd5-ebf4-48bf-94d0-2790044894f9"
   },
   "outputs": [],
   "source": [
    "from google.colab import drive\n",
    "drive.mount('/content/drive')"
   ]
  },
  {
   "cell_type": "markdown",
   "metadata": {
    "id": "_4a1pOgPENwx"
   },
   "source": [
    "## Seq2Seq model"
   ]
  },
  {
   "cell_type": "markdown",
   "metadata": {
    "id": "tk6h6fp2DRBP"
   },
   "source": [
    "In this tutorial, we will introduce a neural network to translate French sentence to English sentence.\n",
    "\n",
    "We will introduce a important architecture in machine translation: [sequence to sequence network](http://arxiv.org/abs/1409.3215), in which two recurrent neural networks work together to transform one sequence (e.g., sentence) to another. An encoder network condenses an input sequence into a **single vector**, and a decoder network unfolds that vector into a new sequence in target language."
   ]
  },
  {
   "cell_type": "markdown",
   "metadata": {
    "id": "GpeU8nufDRBP"
   },
   "source": [
    "# Sequence to Sequence Learning\n",
    "\n",
    "A [Sequence to Sequence network](http://arxiv.org/abs/1409.3215), or seq2seq network, or [Encoder Decoder network](https://arxiv.org/pdf/1406.1078v3.pdf), is a model consisting of two separate RNNs called the **`encoder`** and **`decoder`**. The `encoder` reads an input sequence one token at a time, and outputs a vector at each step. The final output of the encoder is kept as the **context** vector. In classification task, we use this **context** vector as the \"summarization\" of input sequence. In seq2seq model, the decoder uses this context vector as the initial state to generate translation. We will discuss the details in the later section.  \n",
    "\n",
    "![](https://i.imgur.com/tVtHhNp.png)\n",
    "\n",
    " Picture Courtesy: https://i.imgur.com/tVtHhNp.png\n",
    " \n",
    "When using a single RNN, there is a one-to-one relationship between `inputs` and `outputs`. But there are not directly one-to-one relationship between source language and target language. \n",
    "\n",
    "Consider a simple sentence \"`Je ne suis pas le chat noir\"` &rarr; \"`I am not the black cat`\". Many of the words have a pretty direct translation, like \"chat\" &rarr; \"cat\". However the differing grammars cause words to be in different orders, e.g. \"chat noir\" and \"black cat\". There is also the \"ne ... pas\" &rarr; \"not\" construction that makes the two sentences have different lengths.\n",
    "\n",
    "With the seq2seq model, by encoding many source inputs into one vector, and decoding from one vector into many target outputs, we are freed from the constraints of sequence order and length. The encoded sequence is represented by a single vector which is a $N$ dimensional representation. In an ideal case, this vector can be considered as the `\"summarization\"` of the sequence.\n",
    "\n",
    "The flow of rest of this tutorial is as follows:\n",
    "1. Preparing data\n",
    "2. Encoder\n",
    "3. Decoder\n",
    "4. Seq2seq\n",
    "5. Training the model\n",
    "6. Loading the trained model checkpoint\n",
    "7. Evaluation"
   ]
  },
  {
   "cell_type": "markdown",
   "metadata": {
    "id": "L9VR524FDRBQ"
   },
   "source": [
    "### Required imports"
   ]
  },
  {
   "cell_type": "code",
   "execution_count": null,
   "metadata": {
    "colab": {
     "base_uri": "https://localhost:8080/"
    },
    "id": "JngouI_r0C0D",
    "outputId": "1a616f31-29ca-4870-f582-7748eca244bc"
   },
   "outputs": [],
   "source": [
    "!pip install torch==1.8.0+cu111 torchvision==0.9.0+cu111 torchaudio==0.8.0 torchtext==0.9.0 -f https://download.pytorch.org/whl/torch_stable.html"
   ]
  },
  {
   "cell_type": "code",
   "execution_count": null,
   "metadata": {
    "colab": {
     "base_uri": "https://localhost:8080/"
    },
    "id": "AK5A24eUrqwU",
    "outputId": "dd4d7f9f-339c-427a-8fff-0c6c209d52bc"
   },
   "outputs": [],
   "source": [
    "!pip install --upgrade spacy"
   ]
  },
  {
   "cell_type": "code",
   "execution_count": 1,
   "metadata": {
    "id": "-D5ocUsBDRBR"
   },
   "outputs": [
    {
     "ename": "ModuleNotFoundError",
     "evalue": "No module named 'torchtext.legacy'",
     "output_type": "error",
     "traceback": [
      "\u001b[1;31m---------------------------------------------------------------------------\u001b[0m",
      "\u001b[1;31mModuleNotFoundError\u001b[0m                       Traceback (most recent call last)",
      "\u001b[1;32m~\\AppData\\Local\\Temp\\ipykernel_26408\\1809949579.py\u001b[0m in \u001b[0;36m<cell line: 16>\u001b[1;34m()\u001b[0m\n\u001b[0;32m     14\u001b[0m \u001b[1;32mfrom\u001b[0m \u001b[0mtorch\u001b[0m\u001b[1;33m.\u001b[0m\u001b[0mnn\u001b[0m\u001b[1;33m.\u001b[0m\u001b[0mutils\u001b[0m\u001b[1;33m.\u001b[0m\u001b[0mrnn\u001b[0m \u001b[1;32mimport\u001b[0m \u001b[0mpad_packed_sequence\u001b[0m\u001b[1;33m,\u001b[0m \u001b[0mpack_padded_sequence\u001b[0m\u001b[1;33m\u001b[0m\u001b[1;33m\u001b[0m\u001b[0m\n\u001b[0;32m     15\u001b[0m \u001b[1;32mimport\u001b[0m \u001b[0mtorchtext\u001b[0m\u001b[1;33m\u001b[0m\u001b[1;33m\u001b[0m\u001b[0m\n\u001b[1;32m---> 16\u001b[1;33m \u001b[1;32mfrom\u001b[0m \u001b[0mtorchtext\u001b[0m\u001b[1;33m.\u001b[0m\u001b[0mlegacy\u001b[0m \u001b[1;32mimport\u001b[0m \u001b[0mdata\u001b[0m\u001b[1;33m\u001b[0m\u001b[1;33m\u001b[0m\u001b[0m\n\u001b[0m\u001b[0;32m     17\u001b[0m \u001b[1;32mimport\u001b[0m \u001b[0mspacy\u001b[0m\u001b[1;33m\u001b[0m\u001b[1;33m\u001b[0m\u001b[0m\n\u001b[0;32m     18\u001b[0m \u001b[1;32mimport\u001b[0m \u001b[0mnumpy\u001b[0m \u001b[1;32mas\u001b[0m \u001b[0mnp\u001b[0m\u001b[1;33m\u001b[0m\u001b[1;33m\u001b[0m\u001b[0m\n",
      "\u001b[1;31mModuleNotFoundError\u001b[0m: No module named 'torchtext.legacy'"
     ]
    }
   ],
   "source": [
    "import unicodedata\n",
    "import string\n",
    "import re\n",
    "import random\n",
    "import time\n",
    "import datetime\n",
    "import math\n",
    "\n",
    "import torch\n",
    "import torch.nn as nn\n",
    "from torch.autograd import Variable\n",
    "from torch import optim\n",
    "import torch.nn.functional as F\n",
    "from torch.nn.utils.rnn import pad_packed_sequence, pack_padded_sequence\n",
    "import torchtext\n",
    "from torchtext.legacy import data\n",
    "import spacy\n",
    "import numpy as np"
   ]
  },
  {
   "cell_type": "code",
   "execution_count": null,
   "metadata": {},
   "outputs": [],
   "source": []
  },
  {
   "cell_type": "markdown",
   "metadata": {
    "id": "GxjuYtN0DRBU"
   },
   "source": [
    "Here we will also define a constant to decide whether to use the GPU (with CUDA specifically) or the CPU. \n",
    "\n",
    "If you don't have a GPU, set this as CPU. Later when we create tensors, this variable will be used to decide whether we keep them on CPU or move them to GPU."
   ]
  },
  {
   "cell_type": "code",
   "execution_count": null,
   "metadata": {
    "colab": {
     "base_uri": "https://localhost:8080/"
    },
    "id": "AZONroUKDRBV",
    "outputId": "8c4f3303-0419-4afe-dc9e-2a76d25c9ac7"
   },
   "outputs": [],
   "source": [
    "device = torch.device('cuda' if torch.cuda.is_available() else 'cpu')\n",
    "print(device)"
   ]
  },
  {
   "cell_type": "markdown",
   "metadata": {
    "id": "QmhYeZCdDRBY"
   },
   "source": [
    "## 1. Preparing Data"
   ]
  },
  {
   "cell_type": "markdown",
   "metadata": {
    "id": "nh7pBWq_DRBa"
   },
   "source": [
    "***Define tokenizers:***\n",
    "we create the tokenizers. A tokenizer is used to turn a string containing a sentence into a list of individual tokens.\n",
    "\n",
    "`spaCy` has model for each language (\"fr\" for French and \"en\" for English) which need to be loaded so we can access the tokenizer of each model."
   ]
  },
  {
   "cell_type": "markdown",
   "metadata": {
    "id": "O9DyXb3eDRBa"
   },
   "source": [
    "***Note***: the models must first be downloaded using the following on the command line:\n",
    "\n",
    "```\n",
    "python -m spacy download en_core_web_sm\n",
    "python -m spacy download fr_core_news_sm\n",
    "```"
   ]
  },
  {
   "cell_type": "code",
   "execution_count": null,
   "metadata": {
    "colab": {
     "base_uri": "https://localhost:8080/"
    },
    "id": "qQbDo_trz-yX",
    "outputId": "f2e75e5b-76af-4795-a89a-5cd3570a1864"
   },
   "outputs": [],
   "source": [
    "import spacy.cli\n",
    "\n",
    "spacy.cli.download(\"en_core_web_sm\")\n",
    "spacy.cli.download(\"fr_core_news_sm\")"
   ]
  },
  {
   "cell_type": "code",
   "execution_count": null,
   "metadata": {
    "id": "htgoVt6HDRBb"
   },
   "outputs": [],
   "source": [
    "import fr_core_news_sm\n",
    "import en_core_web_sm\n",
    "\n",
    "spacy_fr = fr_core_news_sm.load()\n",
    "spacy_en = en_core_web_sm.load()\n"
   ]
  },
  {
   "cell_type": "markdown",
   "metadata": {
    "id": "HoOzzEjE3LLa"
   },
   "source": [
    "Next, we create the tokenizer functions. These functions can be provided to TorchText and will take in the sentence as a string and return the sentence as a list of tokens."
   ]
  },
  {
   "cell_type": "code",
   "execution_count": null,
   "metadata": {
    "id": "5i5mYv6h3L7B"
   },
   "outputs": [],
   "source": [
    "### LEGACY TORCHTEXT ###\n",
    "\n",
    "def tokenize_fr_legacy(text):\n",
    "    \"\"\"\n",
    "    Tokenizes French text from a string into a list of strings (tokens)\n",
    "    \"\"\"\n",
    "    return [tok.text for tok in spacy_fr.tokenizer(text)]\n",
    "\n",
    "def tokenize_en_legacy(text):\n",
    "    \"\"\"\n",
    "    Tokenizes English text from a string into a list of strings (tokens)\n",
    "    \"\"\"\n",
    "    return [tok.text for tok in spacy_en.tokenizer(text)]"
   ]
  },
  {
   "cell_type": "code",
   "execution_count": null,
   "metadata": {
    "id": "peqQiDWrE-15"
   },
   "outputs": [],
   "source": [
    "### LATEST TORCHTEXT ###\n",
    "from torchtext.data.utils import get_tokenizer\n",
    "\n",
    "spacy_en_tokenizer = get_tokenizer(\"spacy\", language=\"en_core_web_sm\")\n",
    "spacy_fr_tokenizer = get_tokenizer(\"spacy\", language=\"fr_core_news_sm\")"
   ]
  },
  {
   "cell_type": "markdown",
   "metadata": {
    "id": "jXWp5zbi3PhB"
   },
   "source": [
    "`TorchText`'s Fields handle how data should be processed. You can read all of the possible arguments [here](https://github.com/pytorch/text/blob/master/torchtext/data/field.py#L61).\n",
    "\n",
    "We set the tokenize argument to the corresponding tokenization function for each, with French being the `SRC` (source) field and English being the `TRG` (target) field. The field also appends the \"start of sequence\" (\\<sos\\>) and \"end of sequence\" (\\<eos\\>) tokens via the `init_token` and `eos_token` arguments, and converts all words to lowercase."
   ]
  },
  {
   "cell_type": "code",
   "execution_count": 10,
   "metadata": {
    "id": "CFRXhTeU3OIM"
   },
   "outputs": [],
   "source": [
    "### LEGACY TORCHTEXT ###\n",
    "\n",
    "SRC = data.Field(tokenize = tokenize_fr_legacy, \n",
    "            init_token = '<bos>', \n",
    "            eos_token = '<eos>', \n",
    "            lower = True)\n",
    "TRG = data.Field(tokenize = tokenize_en_legacy, \n",
    "            init_token = '<bos>', \n",
    "            eos_token = '<eos>', \n",
    "            lower = True)"
   ]
  },
  {
   "cell_type": "code",
   "execution_count": 38,
   "metadata": {
    "id": "wzfq9En6Fdlq"
   },
   "outputs": [],
   "source": [
    "### LATEST TORCTHEXT ###\n",
    "\n",
    "from collections import OrderedDict, Counter\n",
    "from torchtext.vocab import Vocab\n",
    "import io\n",
    "\n",
    "path = './drive/My Drive/Colab Notebooks/eng-fre/'\n",
    "train_fn = 'train_eng_fre.tsv'\n",
    "valid_fn = 'val_eng_fre.tsv'\n",
    "test_fn = 'test_eng_fre.tsv'\n",
    "\n",
    "\n",
    "def build_vocab(filepath, src_tokenizer, trg_tokenizer):\n",
    "  src_counter, trg_counter = Counter(), Counter()\n",
    "  with open(filepath, encoding=\"utf-8\") as f:\n",
    "    for i, line in enumerate(f.readlines()):\n",
    "      if i == 0:  # skip header\n",
    "        continue\n",
    "      # split line and tokenize accordingly\n",
    "      trg_line, src_line = line.strip(\"\\n\").split(\"\\t\")\n",
    "      src_counter.update(src_tokenizer(src_line.lower()))\n",
    "      trg_counter.update(trg_tokenizer(trg_line.lower()))\n",
    "    \n",
    "    # sort and wrap as OrderedDict\n",
    "    ordered_src = OrderedDict(sorted(src_counter.items(), key=lambda x: x[1], reverse=True))\n",
    "    ordered_trg = OrderedDict(sorted(trg_counter.items(), key=lambda x: x[1], reverse=True))\n",
    "    \n",
    "    # build vocab objects\n",
    "    # NOTE: OrderedDict as input Requires torchtext >= 0.10.0. Using Counter for now\n",
    "    src_vocab = Vocab(\n",
    "      src_counter, \n",
    "      min_freq=2, \n",
    "      specials=('<unk>', '<pad>', '<bos>', '<eos>')\n",
    "    )\n",
    "\n",
    "    trg_vocab = Vocab(\n",
    "      trg_counter, \n",
    "      min_freq=2,\n",
    "      specials=('<unk>', '<pad>', '<bos>', '<eos>')\n",
    "    )\n",
    "    \n",
    "    return src_vocab, trg_vocab\n",
    "\n",
    "src_vocab, trg_vocab = build_vocab(\n",
    "  path + train_fn, \n",
    "  spacy_fr_tokenizer,\n",
    "  spacy_en_tokenizer\n",
    ")"
   ]
  },
  {
   "cell_type": "markdown",
   "metadata": {
    "id": "OnOUGpiM3YCm"
   },
   "source": [
    "Next, we load the train, validation and test data.\n",
    "\n",
    "The dataset we'll be using is the [Multi30k](https://github.com/multi30k/dataset) dataset. This is a dataset with ~30,000 parallel English, French and German sentences. The length of sentence is around 12 words. You can find more information in [WMT18](http://www.statmt.org/wmt18/multimodal-task.html). This corpus was officially split to Training (29,000 sentences), Validation (1,014 sentences), and multiple Test sets. We provide Test 2016 (1,000 sentences). \n",
    "\n",
    "The raw dataset is extracted to three `.tsv` files. Each file includes two column, 'English' and 'French'. We use `torchtext.legacy.data.TabularDataset` to load these tsv files. "
   ]
  },
  {
   "cell_type": "code",
   "execution_count": 80,
   "metadata": {
    "id": "opWSiWmN3XKt"
   },
   "outputs": [],
   "source": [
    "### LEGACY TORCHTEXT ###\n",
    "\n",
    "train, val, test = data.TabularDataset.splits(\n",
    "    path='./drive/My Drive/Colab Notebooks/eng-fre/', \n",
    "    train='train_eng_fre.tsv',\n",
    "    validation='val_eng_fre.tsv', \n",
    "    test='test_eng_fre.tsv', \n",
    "    format='tsv', \n",
    "    skip_header=True, \n",
    "    fields=[('TRG', TRG), ('SRC', SRC)]\n",
    "  )"
   ]
  },
  {
   "cell_type": "markdown",
   "metadata": {
    "id": "L1WwLAWb5XPt"
   },
   "source": [
    "We can double check that we've loaded the right number of examples:"
   ]
  },
  {
   "cell_type": "code",
   "execution_count": 14,
   "metadata": {
    "colab": {
     "base_uri": "https://localhost:8080/"
    },
    "id": "lALu0PWW4J4W",
    "outputId": "183dfeac-2319-424e-fff3-419408da9c6f"
   },
   "outputs": [
    {
     "name": "stdout",
     "output_type": "stream",
     "text": [
      "Number of training examples: 29000\n",
      "Number of validation examples: 1014\n",
      "Number of testing examples: 1000\n"
     ]
    }
   ],
   "source": [
    "print(f\"Number of training examples: {len(train.examples)}\")\n",
    "print(f\"Number of validation examples: {len(val.examples)}\")\n",
    "print(f\"Number of testing examples: {len(test.examples)}\")"
   ]
  },
  {
   "cell_type": "markdown",
   "metadata": {
    "id": "VkAicvV95kAE"
   },
   "source": [
    "We can also print out an example:"
   ]
  },
  {
   "cell_type": "code",
   "execution_count": 24,
   "metadata": {
    "colab": {
     "base_uri": "https://localhost:8080/"
    },
    "id": "1VIBOMQr5X7Q",
    "outputId": "926d7de1-ea20-4494-8af6-a9bf31e6afef"
   },
   "outputs": [
    {
     "name": "stdout",
     "output_type": "stream",
     "text": [
      "{'TRG': ['two', 'young', ',', 'white', 'males', 'are', 'outside', 'near', 'many', 'bushes', '.'], 'SRC': ['deux', 'jeunes', 'hommes', 'blancs', 'sont', 'dehors', 'près', 'de', 'buissons', '.']}\n"
     ]
    }
   ],
   "source": [
    "print(vars(train.examples[0]))"
   ]
  },
  {
   "cell_type": "code",
   "execution_count": 25,
   "metadata": {
    "colab": {
     "base_uri": "https://localhost:8080/"
    },
    "id": "sJtbuYXD5ltS",
    "outputId": "0a531758-c70e-42eb-f84f-82c6047018a3"
   },
   "outputs": [
    {
     "name": "stdout",
     "output_type": "stream",
     "text": [
      "{'TRG': ['an', 'older', ',', 'overweight', 'man', 'flips', 'a', 'pancake', 'while', 'making', 'breakfast', '.'], 'SRC': ['un', 'homme', 'âgé', 'en', 'surpoids', 'fait', 'sauter', 'une', 'crêpe', 'en', 'préparant', 'le', 'petit', 'déjeuner', '.']}\n"
     ]
    }
   ],
   "source": [
    "print(vars(val.examples[100]))"
   ]
  },
  {
   "cell_type": "code",
   "execution_count": 96,
   "metadata": {
    "id": "W__0ihNRPbMt"
   },
   "outputs": [],
   "source": [
    "### LATEST TORCHTEXT ###\n",
    "\n",
    "import io\n",
    "\n",
    "def data_process(path, split):\n",
    "  raw_iter = iter(io.open(path + split, encoding=\"utf-8\"))\n",
    "  data = []\n",
    "  for i, item in enumerate(raw_iter):\n",
    "    if i == 0:\n",
    "      continue\n",
    "    trg_raw, src_raw = item.strip(\"\\n\").split(\"\\t\")\n",
    "    src_tensor = torch.tensor(\n",
    "        [src_vocab[token] for token in spacy_fr_tokenizer(src_raw.lower())],\n",
    "        dtype=torch.long\n",
    "      )\n",
    "    trg_tensor = torch.tensor(\n",
    "        [trg_vocab[token] for token in spacy_en_tokenizer(trg_raw.lower())],\n",
    "        dtype=torch.long\n",
    "      )\n",
    "    data.append((src_tensor, trg_tensor))\n",
    "\n",
    "  return data"
   ]
  },
  {
   "cell_type": "code",
   "execution_count": 97,
   "metadata": {
    "id": "JDbXDAguRUc1"
   },
   "outputs": [],
   "source": [
    "train_data = data_process(path, train_fn)\n",
    "val_data = data_process(path, valid_fn)\n",
    "test_data = data_process(path, test_fn)"
   ]
  },
  {
   "cell_type": "code",
   "execution_count": 98,
   "metadata": {
    "colab": {
     "base_uri": "https://localhost:8080/"
    },
    "id": "o5-wdG4WTbev",
    "outputId": "098ac296-81b8-4efd-c880-0fbfa99e7018"
   },
   "outputs": [
    {
     "name": "stdout",
     "output_type": "stream",
     "text": [
      "Number of training examples: 29000\n",
      "Number of validation examples: 1014\n",
      "Number of testing examples: 1000\n"
     ]
    }
   ],
   "source": [
    "print(f\"Number of training examples: {len(train_data)}\")\n",
    "print(f\"Number of validation examples: {len(val_data)}\")\n",
    "print(f\"Number of testing examples: {len(test_data)}\")"
   ]
  },
  {
   "cell_type": "code",
   "execution_count": 99,
   "metadata": {
    "colab": {
     "base_uri": "https://localhost:8080/"
    },
    "id": "kbGG3FCevVy4",
    "outputId": "0bbdf523-5255-4a11-84c3-371252f6356d"
   },
   "outputs": [
    {
     "name": "stdout",
     "output_type": "stream",
     "text": [
      "['two', 'young', ',', 'white', 'males', 'are', 'outside', 'near', 'many', 'bushes', '.'] ['deux', 'jeunes', 'hommes', 'blancs', 'sont', 'dehors', 'près', 'de', 'buissons', '.']\n"
     ]
    }
   ],
   "source": [
    "trg_sent = [trg_vocab.itos[i] for i in train_data[0][1]]\n",
    "src_sent = [src_vocab.itos[i] for i in train_data[0][0]]\n",
    "print(trg_sent, src_sent)"
   ]
  },
  {
   "cell_type": "code",
   "execution_count": 100,
   "metadata": {
    "colab": {
     "base_uri": "https://localhost:8080/"
    },
    "id": "TEdP70nHwbyB",
    "outputId": "65dc134a-a396-4468-af9c-aa6d97bacafd"
   },
   "outputs": [
    {
     "name": "stdout",
     "output_type": "stream",
     "text": [
      "['an', 'older', ',', 'overweight', 'man', 'flips', 'a', 'pancake', 'while', 'making', 'breakfast', '.'] ['un', 'homme', 'âgé', 'en', 'surpoids', 'fait', 'sauter', 'une', 'crêpe', 'en', 'préparant', 'le', 'petit', 'déjeuner', '.']\n"
     ]
    }
   ],
   "source": [
    "trg_sent = [trg_vocab.itos[i] for i in val_data[100][1]]\n",
    "src_sent = [src_vocab.itos[i] for i in val_data[100][0]]\n",
    "print(trg_sent, src_sent)"
   ]
  },
  {
   "cell_type": "markdown",
   "metadata": {
    "id": "soAYLiNT51fe"
   },
   "source": [
    "Next, we'll build the vocabulary for the source and target languages. \n",
    "\n",
    "The vocabulary is used to associate each unique token with an index and this is used to build a one-hot encoding for each token. The vocabularies of the source and target languages have some minimal overlap (e.g., `critique` and `genre` are used in similar context in both languages)."
   ]
  },
  {
   "cell_type": "markdown",
   "metadata": {
    "id": "zAC6IHWm51k4"
   },
   "source": [
    "Using the `min_freq` argument, we only allow tokens that appear at least 2 times to appear in our vocabulary. Tokens that appear only once are converted into an `<unk>` (unknown) token.\n",
    "\n",
    "It is important to note that your vocabulary should only be built from the `training set` and not the `validation/test set`. This prevents **\"information leakage\"** into your model, giving you artifically inflated validation/test scores."
   ]
  },
  {
   "cell_type": "code",
   "execution_count": 101,
   "metadata": {
    "id": "zkltTmyK5o8s"
   },
   "outputs": [],
   "source": [
    "### LEGACY TORCHTEXT ###\n",
    "\n",
    "TRG.build_vocab(train, min_freq=2)\n",
    "SRC.build_vocab(train, min_freq=2)"
   ]
  },
  {
   "cell_type": "code",
   "execution_count": 102,
   "metadata": {
    "colab": {
     "base_uri": "https://localhost:8080/"
    },
    "id": "_Bg8RlqE58yw",
    "outputId": "f94d2b59-baee-449b-8462-f73b70a3f16b"
   },
   "outputs": [
    {
     "name": "stdout",
     "output_type": "stream",
     "text": [
      "Unique tokens in source (fr) vocabulary: 6470\n",
      "Unique tokens in target (en) vocabulary: 5893\n"
     ]
    }
   ],
   "source": [
    "print(f\"Unique tokens in source (fr) vocabulary: {len(SRC.vocab)}\")\n",
    "print(f\"Unique tokens in target (en) vocabulary: {len(TRG.vocab)}\")"
   ]
  },
  {
   "cell_type": "markdown",
   "metadata": {
    "id": "-orLmAvC51oi"
   },
   "source": [
    "`TRG.vocab.stoi` is the dictionary of word to index. For example, the index of `<pad>` is 1."
   ]
  },
  {
   "cell_type": "code",
   "execution_count": 103,
   "metadata": {
    "colab": {
     "base_uri": "https://localhost:8080/"
    },
    "id": "C0cjuor56E5y",
    "outputId": "9e25c3d3-e3d6-4abf-9479-c438c0012f62"
   },
   "outputs": [
    {
     "name": "stdout",
     "output_type": "stream",
     "text": [
      "1\n"
     ]
    }
   ],
   "source": [
    "print(TRG.vocab.stoi['<pad>'])"
   ]
  },
  {
   "cell_type": "code",
   "execution_count": 104,
   "metadata": {
    "colab": {
     "base_uri": "https://localhost:8080/"
    },
    "id": "ZcR2kyVbT9dJ",
    "outputId": "aea7f623-95ac-40b4-eb71-aecd4104ef84"
   },
   "outputs": [
    {
     "name": "stdout",
     "output_type": "stream",
     "text": [
      "Unique tokens in source (fr) vocabulary: 6471\n",
      "Unique tokens in target (en) vocabulary: 5893\n"
     ]
    }
   ],
   "source": [
    "### LATEST TORCHTEXT ###\n",
    "\n",
    "print(f\"Unique tokens in source (fr) vocabulary: {len(src_vocab)}\")\n",
    "print(f\"Unique tokens in target (en) vocabulary: {len(trg_vocab)}\")"
   ]
  },
  {
   "cell_type": "code",
   "execution_count": 105,
   "metadata": {
    "colab": {
     "base_uri": "https://localhost:8080/"
    },
    "id": "U4maRzpsUJe6",
    "outputId": "68b9373a-126d-4532-89ea-dc6f474f0381"
   },
   "outputs": [
    {
     "name": "stdout",
     "output_type": "stream",
     "text": [
      "1\n"
     ]
    }
   ],
   "source": [
    "# trg_stoi = trg_vocab.get_stoi()  # torcthext >0.10.0\n",
    "trg_stoi = trg_vocab.stoi\n",
    "print(trg_stoi['<pad>'])"
   ]
  },
  {
   "cell_type": "markdown",
   "metadata": {
    "id": "dEePNI326JF1"
   },
   "source": [
    "The final step of preparing the data is to create the `iterators` to generate batches. These can be iterated on to return a batch of data. The text of both source and target text will be converted to two sequence of corresponding indexes, using the vocabularies.\n",
    "\n",
    "\n",
    "We also need to define a `torch.device`. This indicate whether the input `tensors` should be sent to `GPU` or not. We already defined the `device` variable before. \n",
    "\n",
    "Finally, the output of the iterator will be `padded`. \n",
    "\n",
    "We use a `BucketIterator` to creates batches."
   ]
  },
  {
   "cell_type": "code",
   "execution_count": 106,
   "metadata": {
    "id": "exU8AMSw7arW"
   },
   "outputs": [],
   "source": [
    "### LEGACY TORCHTEXT ###\n",
    "\n",
    "train_iter, val_iter, test_iter = data.BucketIterator.splits(\n",
    "    (train, val, test), # we pass in the datasets we want the iterator to draw data from\n",
    "    batch_sizes=(16, 256, 256), device = device,\n",
    "    sort_key=lambda x: len(x.SRC), # the BucketIterator needs to be told what function it should use to group the data.\n",
    "    sort_within_batch=True\n",
    "  )"
   ]
  },
  {
   "cell_type": "markdown",
   "metadata": {
    "id": "lPpt9Fgb7glp"
   },
   "source": [
    "Each batch will include two **tensors**: tensor of source language and tensor of target language. The size of each tensor is **[max_length, batch_size]**. Each example is already **padded** within batch dynamically."
   ]
  },
  {
   "cell_type": "code",
   "execution_count": 107,
   "metadata": {
    "colab": {
     "base_uri": "https://localhost:8080/"
    },
    "id": "ZonpfR9l7c2c",
    "outputId": "d0899005-54c7-4bb3-b472-d89407a5c47d"
   },
   "outputs": [
    {
     "name": "stdout",
     "output_type": "stream",
     "text": [
      "tensor size of source language: torch.Size([19, 16])\n",
      "tensor size of target language: torch.Size([19, 16])\n",
      "the tensor of first example in target language: tensor([  2,   4,  14, 241,   4,  31, 157, 124,   4, 309,  28,  22,   4, 234,\n",
      "          5,   3,   1,   1,   1], device='cuda:0')\n"
     ]
    }
   ],
   "source": [
    "# batch example of training data\n",
    "for batch in train_iter:\n",
    "    src = batch.SRC\n",
    "    trg = batch.TRG\n",
    "    print('tensor size of source language:', src.shape)\n",
    "    print('tensor size of target language:', trg.shape)\n",
    "    print('the tensor of first example in target language:', trg[:, 0])\n",
    "    break"
   ]
  },
  {
   "cell_type": "markdown",
   "metadata": {
    "id": "df3gTAlzvO1l"
   },
   "source": [
    "We save our Fields for reproducibility. Ensure you create a direction `ckpt` in your drive before running the following code."
   ]
  },
  {
   "cell_type": "code",
   "execution_count": 108,
   "metadata": {
    "id": "pHw0elIXvM-S"
   },
   "outputs": [],
   "source": [
    "import pickle\n",
    "\n",
    "with open(\"./drive/My Drive/Colab Notebooks/ckpt/TRG.Field\", \"wb\") as f:\n",
    "     pickle.dump(TRG, f)\n",
    "\n",
    "with open(\"./drive/My Drive/Colab Notebooks/ckpt/SRC.Field\", \"wb\") as f:\n",
    "     pickle.dump(SRC, f)"
   ]
  },
  {
   "cell_type": "code",
   "execution_count": 114,
   "metadata": {
    "id": "Att8qScZVetN"
   },
   "outputs": [],
   "source": [
    "### LATEST TORCHTEXT ###\n",
    "\n",
    "BATCH_SIZE = {\n",
    "    \"train\": 16,\n",
    "    \"val\": 256,\n",
    "    \"test\": 256\n",
    "}\n",
    "\n",
    "PAD_IDX = trg_vocab['<pad>']\n",
    "BOS_IDX = trg_vocab['<bos>']\n",
    "EOS_IDX = trg_vocab['<eos>']\n",
    "\n",
    "from torch.nn.utils.rnn import pad_sequence\n",
    "from torch.utils.data import DataLoader\n",
    "\n",
    "def generate_batch(data_batch):\n",
    "  src_batch, trg_batch = [], []\n",
    "  for (src_item, trg_item) in data_batch:\n",
    "    src_batch.append(torch.cat([torch.tensor([BOS_IDX]), src_item, torch.tensor([EOS_IDX])], dim=0))\n",
    "    trg_batch.append(torch.cat([torch.tensor([BOS_IDX]), trg_item, torch.tensor([EOS_IDX])], dim=0))\n",
    "  src_batch = pad_sequence(src_batch, padding_value=PAD_IDX)\n",
    "  trg_batch = pad_sequence(trg_batch, padding_value=PAD_IDX)\n",
    "  return src_batch, trg_batch"
   ]
  },
  {
   "cell_type": "code",
   "execution_count": 115,
   "metadata": {
    "id": "9wUuftjPV6GR"
   },
   "outputs": [],
   "source": [
    "train_iter = DataLoader(train_data, batch_size=BATCH_SIZE[\"train\"],\n",
    "                        shuffle=True, collate_fn=generate_batch)\n",
    "valid_iter = DataLoader(val_data, batch_size=BATCH_SIZE[\"val\"],\n",
    "                        shuffle=True, collate_fn=generate_batch)\n",
    "test_iter = DataLoader(test_data, batch_size=BATCH_SIZE[\"test\"],\n",
    "                       shuffle=True, collate_fn=generate_batch)"
   ]
  },
  {
   "cell_type": "code",
   "execution_count": 116,
   "metadata": {
    "colab": {
     "base_uri": "https://localhost:8080/"
    },
    "id": "YmNi0fRKWE9e",
    "outputId": "2d0251d4-ce2c-44c8-b6c8-10afbba53ce4"
   },
   "outputs": [
    {
     "name": "stdout",
     "output_type": "stream",
     "text": [
      "tensor size of source language: torch.Size([29, 16])\n",
      "tensor size of target language: torch.Size([27, 16])\n",
      "the tensor of first example in target language: tensor([   2,    4,   53,   34,    6,    4,   52,  194,   23,   45,   51,    4,\n",
      "         337,    8,   27, 1000,    5,    3,    1,    1,    1,    1,    1,    1,\n",
      "           1,    1,    1])\n"
     ]
    }
   ],
   "source": [
    "# batch example of training data\n",
    "for batch in train_iter:\n",
    "    src, trg = batch\n",
    "    print('tensor size of source language:', src.shape)\n",
    "    print('tensor size of target language:', trg.shape)\n",
    "    print('the tensor of first example in target language:', trg[:, 0])\n",
    "    break"
   ]
  },
  {
   "cell_type": "markdown",
   "metadata": {
    "id": "J73SrWVN7nU4"
   },
   "source": [
    "## Building the Seq2Seq Model\n",
    "\n",
    "## 2. Encoder\n",
    "\n",
    "![](https://pytorch.org/tutorials/_images/seq2seq.png)\n",
    "\n",
    "First, we'll build the encoder model that encodes the French sentence. We use a single layer `Uni-directional LSTM`.\n",
    "\n",
    "Similar to the classifiction task (covered in DSCI 572), we only pass the output of embedding layer to the LSTM layer. The LSTM layer returns `outputs`, `hidden` and `cell`. The `hidden` is the final hidden state of LSTM layer (t=seq_len). The `cell` is the final cell state of the LSTM layer (t=seq_len). `hidden` and `cell` can be considered as the **context** representation of source language. "
   ]
  },
  {
   "cell_type": "code",
   "execution_count": 120,
   "metadata": {
    "id": "xY9pEqwL7iKs"
   },
   "outputs": [],
   "source": [
    "class Encoder(nn.Module):\n",
    "    def __init__(self, input_dim, emb_dim, enc_hid_dim, n_layers, dropout):\n",
    "        super().__init__()\n",
    "\n",
    "        self.emb_dim = emb_dim\n",
    "        self.enc_hid_dim = enc_hid_dim\n",
    "        self.dropout = dropout\n",
    "        self.n_layers = n_layers\n",
    "\n",
    "        self.embedding = nn.Embedding(input_dim, emb_dim)\n",
    "        self.lstm = nn.LSTM(emb_dim, enc_hid_dim, n_layers, dropout=dropout)\n",
    "        self.dropout = nn.Dropout(dropout)\n",
    "        \n",
    "    def forward(self, src):\n",
    "        \n",
    "        #src = [src len, batch size]\n",
    "        \n",
    "        embedded = self.dropout(self.embedding(src))\n",
    "        \n",
    "        #embedded = [src len, batch size, emb dim]\n",
    "        \n",
    "        outputs, (hidden, cell) = self.lstm(embedded)\n",
    "       \n",
    "        # outputs are always from the top hidden layer, if bidirectional outputs are concatenated.\n",
    "        # outputs shape [sequence_length, batch_size, hidden_dim * num_directions]\n",
    "        # hidden is of shape [num_layers * num_directions, batch_size, hidden_size]\n",
    "        # cell is of shape [num_layers * num_directions, batch_size, hidden_size]\n",
    "        \n",
    "        return hidden, cell"
   ]
  },
  {
   "cell_type": "markdown",
   "metadata": {
    "id": "gV9fweNEKNcp"
   },
   "source": [
    "## 3. Decoder\n",
    "\n",
    "![](https://pytorch.org/tutorials/_images/seq2seq.png)\n",
    "\n",
    "Next up is the decoder. Decoder is a `uni-directional LSTM`.\n",
    "\n",
    "\n",
    "At time step $t$, the input of decoder LSTM is embeded word vector of $t$th target word , $y_t$, the previous decoder hidden state, $h_{t-1}$, and the previous decoder hidden cell, $c_{t-1}$.\n",
    "\n",
    "$$h_t, c_t = \\text{DecoderLSTM}(y_t, (h_{t-1}, c_{t-1}))$$\n",
    "\n",
    "Specially, we will use the last `hidden state` and `cell state` of the encoder LSTM as the initial states of decoder LSTM (i.e., $h_{0}, c_{0}$) rather than randomly initialize them. \n",
    "\n",
    "We then pass hidden state of LSTM layer, $h_t$, through the linear layer, $f$, to make a prediction of the next word in the target sentence, $\\hat{y}_{t+1}$. \n",
    "\n",
    "$$\\hat{y}_{t+1} = f(h_t)$$"
   ]
  },
  {
   "cell_type": "code",
   "execution_count": 121,
   "metadata": {
    "id": "bDL3CtVjKKS3"
   },
   "outputs": [],
   "source": [
    "class Decoder(nn.Module):\n",
    "    def __init__(self, output_dim, emb_dim, dec_hid_dim, n_layers, dropout):\n",
    "        super().__init__()\n",
    "\n",
    "        self.emb_dim = emb_dim\n",
    "        self.output_dim = output_dim\n",
    "        self.dec_hid_dim = dec_hid_dim\n",
    "        self.n_layers = n_layers\n",
    "        self.dropout = dropout\n",
    "\n",
    "        self.embedding = nn.Embedding(output_dim, emb_dim)\n",
    "        self.lstm = nn.LSTM(emb_dim, dec_hid_dim, n_layers, dropout=dropout)\n",
    "        self.fc_out = nn.Linear(dec_hid_dim, output_dim)\n",
    "        self.dropout = nn.Dropout(dropout)\n",
    "        \n",
    "    def forward(self, input, hidden, cell):\n",
    "             \n",
    "        # input is of shape [batch_size]\n",
    "        # hidden is of shape [n_layer * num_directions, batch_size, hidden_size]\n",
    "        # cell is of shape [n_layer * num_directions, batch_size, hidden_size]\n",
    "        \n",
    "        input = input.unsqueeze(0)\n",
    "        \n",
    "        # input shape is [1, batch_size]. reshape is needed rnn expects a rank 3 tensors as input.\n",
    "        # so reshaping to [1, batch_size] means a batch of batch_size each containing 1 index.\n",
    "        \n",
    "        embedded = self.dropout(self.embedding(input))\n",
    "        \n",
    "        #embedded = [1, batch size, emb dim]    \n",
    "        output, (hidden, cell) = self.lstm(embedded, (hidden, cell))\n",
    "        \n",
    "        # output shape is [sequence_len, batch_size, hidden_dim * num_directions]\n",
    "        # hidden shape is [num_layers * num_directions, batch_size, hidden_dim]\n",
    "        # cell shape is [num_layers * num_directions, batch_size, hidden_dim]\n",
    "\n",
    "        # sequence_len and num_directions will always be 1 in the decoder.\n",
    "        # output shape is [1, batch_size, hidden_dim]\n",
    "        # hidden shape is [num_layers, batch_size, hidden_dim]\n",
    "        # cell shape is [num_layers, batch_size, hidden_dim]\n",
    "        \n",
    "        prediction = self.fc_out(hidden.squeeze(0)) # linear expects as rank 2 tensor as input\n",
    "        # predicted shape is [batch_size, output_dim]\n",
    "        \n",
    "        return prediction, hidden, cell"
   ]
  },
  {
   "cell_type": "markdown",
   "metadata": {
    "id": "E5sxYN1dYIrs"
   },
   "source": [
    "## 4. Seq2Seq\n",
    "\n",
    "\n",
    "![](https://pytorch.org/tutorials/_images/seq2seq.png)\n",
    "\n",
    "The `encoder` returns both the final `hidden state` and `cell state` to be used as the initial `hidden state` and `cell state` for the `decoder`.\n",
    "\n",
    "Briefly going over all of the steps:\n",
    "- the `outputs` tensor is created to hold all predictions, $\\hat{Y} = \\{\\hat{y_0}, \\hat{y_1} ... \\hat{y_t}\\}$;\n",
    "- the source sequence, $X = \\{x_0,x_1,..., x_t\\}$, is fed into the encoder to receive last hidden state, $h^{Encoder}_t$, and last cell state $c^{Encoder}_t$;\n",
    "- the initial decoder hidden state is set to be the $h^{Encoder}_t$, and the initial decoder cell state is set to be the $c^{Encoder}_t$. (i.e., $h^{Decoder}_0$ = $h^{Encoder}_t$; $c^{Decoder}_0$ = $c^{Encoder}_t$);\n",
    "- we use a batch of `<bos>` tokens as the first `input` (i.e., $y_1$);\n",
    "- we then decode within a loop:\n",
    "\n",
    " for i in range(1,t): t is the maximal length of target language\n",
    "  - inserting the input token $y_i$, previous hidden state, $h^{Decoder}_{i-1}$, and previous cell state, $c^{Decoder}_{i-1}$, into the decoder;\n",
    "  - receiving a prediction, $\\hat{y}_{i+1}$, which is the most likely output sequence, a new hidden state, $h^{Decoder}_{i}$, and a new cell state, $c^{Decoder}_{i}$;\n",
    "  - we then decide if we are going to **teacher force** or not, setting the next input as appropriate, that is, if teacher forcing is on, the next input will be the gold token from the previous timestep, otherwise, the next input will be the predicted token from the previous timestep."
   ]
  },
  {
   "cell_type": "code",
   "execution_count": 122,
   "metadata": {
    "id": "Qu6YDrp0Y2Rc"
   },
   "outputs": [],
   "source": [
    "class Seq2Seq(nn.Module):\n",
    "    ''' This class contains the implementation of complete sequence to sequence network.\n",
    "    It uses to encoder to produce the context vectors.\n",
    "    It uses the decoder to produce the predicted target sentence.\n",
    "    Args:\n",
    "        encoder: A Encoder class instance.\n",
    "        decoder: A Decoder class instance.\n",
    "    '''\n",
    "    def __init__(self, encoder, decoder, device):\n",
    "        super().__init__()\n",
    "        self.encoder = encoder\n",
    "        self.decoder = decoder\n",
    "        self.device = device\n",
    "\n",
    "    def forward(self, src, trg, teacher_forcing_ratio=0.5):\n",
    "        # src is of shape [src_sequence_len, batch_size]\n",
    "        # trg is of shape [targ_sequence_len, batch_size]\n",
    "        # if teacher_forcing_ratio is 0.5 we use ground-truth inputs 50% of time and 50% time we use decoder outputs.\n",
    "\n",
    "        batch_size = trg.shape[1]\n",
    "        max_len = trg.shape[0]\n",
    "        trg_vocab_size = self.decoder.output_dim\n",
    "\n",
    "        # to store the outputs of the decoder\n",
    "        outputs = torch.zeros(max_len, batch_size, trg_vocab_size).to(self.device)\n",
    "\n",
    "        # context vector, last hidden and cell state of encoder to initialize the decoder\n",
    "        hidden, cell = self.encoder(src)\n",
    "\n",
    "        # first input to the decoder is the <sos> tokens\n",
    "        input = trg[0, :]\n",
    "\n",
    "        for t in range(1, max_len):\n",
    "            output, hidden, cell = self.decoder(input, hidden, cell)\n",
    "            outputs[t] = output\n",
    "            # pick a random number between 0 to ratio and decide whether to teacher force\n",
    "            # if the ratio is 1.0, use_teacher_force is always 1 \n",
    "            # if the ratio is 0.0, use_teacher_force is always 0\n",
    "            # if the ration is 0.4, use_teacher_force is 1 for 40% of the time (on an average)\n",
    "            use_teacher_force = random.random() < teacher_forcing_ratio \n",
    "            top1 = output.max(1)[1]\n",
    "            # decide the next token based on use_teacher_force]\n",
    "            # if teacher forcing is on, the next input will be the gold token from the previous timestep\n",
    "            # otherwise, the next input will be the predicted token from the previous timestep.\n",
    "            input = (trg[t] if use_teacher_force else top1) \n",
    "\n",
    "        # outputs is of shape [sequence_len, batch_size, output_dim]\n",
    "        return outputs"
   ]
  },
  {
   "cell_type": "markdown",
   "metadata": {
    "id": "c3NXkVmygfhv"
   },
   "source": [
    "## 5. Training the Seq2Seq Model\n",
    "We instantiate our encoder, decoder and seq2seq model (placing it on the GPU if we have one). "
   ]
  },
  {
   "cell_type": "code",
   "execution_count": 123,
   "metadata": {
    "colab": {
     "base_uri": "https://localhost:8080/"
    },
    "id": "sHsD_I2EzTYA",
    "outputId": "54cfb27f-dfd1-4e4b-a238-9de5caa27048"
   },
   "outputs": [
    {
     "data": {
      "text/plain": [
       "True"
      ]
     },
     "execution_count": 123,
     "metadata": {},
     "output_type": "execute_result"
    }
   ],
   "source": [
    "torch.cuda.is_available()"
   ]
  },
  {
   "cell_type": "code",
   "execution_count": 126,
   "metadata": {
    "id": "q_ZqMyitGX-5"
   },
   "outputs": [],
   "source": [
    "#INPUT_DIM = len(SRC.vocab) # tokens in source vocabulary\n",
    "#OUTPUT_DIM = len(TRG.vocab) # tokens in target vocabulary\n",
    "INPUT_DIM = len(src_vocab) # tokens in source vocabulary\n",
    "OUTPUT_DIM = len(trg_vocab) # tokens in target vocabulary\n",
    "\n",
    "# hyperparameters\n",
    "ENC_EMB_DIM = 256 # encoder embedding size\n",
    "DEC_EMB_DIM = 256 # decoder embedding size\n",
    "ENC_HID_DIM = 512 # encoder hidden size\n",
    "DEC_HID_DIM = 512 # decoder hidden size\n",
    "ENC_DROPOUT = 0.5 # dropout for encoder\n",
    "DEC_DROPOUT = 0.3 # dropout for decoder\n",
    "N_LAYERS = 1 # number of LSTM layers\n",
    "LEARNING_RT = 0.001 # learning rate\n",
    "\n",
    "# model\n",
    "enc = Encoder(INPUT_DIM, ENC_EMB_DIM, ENC_HID_DIM, N_LAYERS, ENC_DROPOUT)\n",
    "dec = Decoder(OUTPUT_DIM, DEC_EMB_DIM, DEC_HID_DIM, N_LAYERS, DEC_DROPOUT)\n",
    "model = Seq2Seq(enc, dec, device).to(device)"
   ]
  },
  {
   "cell_type": "markdown",
   "metadata": {
    "id": "jMIV3Tnsh3lU"
   },
   "source": [
    "We use a simplified version of the **weight initialization scheme**. Here, we will initialize all biases to zero and all weights from $\\mathcal{N}(0, 0.01)$."
   ]
  },
  {
   "cell_type": "code",
   "execution_count": 127,
   "metadata": {
    "colab": {
     "base_uri": "https://localhost:8080/"
    },
    "id": "k5tsPrp-GZmh",
    "outputId": "0d2e2216-dd81-46d5-be95-de0a272d95c0"
   },
   "outputs": [
    {
     "data": {
      "text/plain": [
       "Seq2Seq(\n",
       "  (encoder): Encoder(\n",
       "    (embedding): Embedding(6471, 256)\n",
       "    (lstm): LSTM(256, 512, dropout=0.5)\n",
       "    (dropout): Dropout(p=0.5, inplace=False)\n",
       "  )\n",
       "  (decoder): Decoder(\n",
       "    (embedding): Embedding(5893, 256)\n",
       "    (lstm): LSTM(256, 512, dropout=0.3)\n",
       "    (fc_out): Linear(in_features=512, out_features=5893, bias=True)\n",
       "    (dropout): Dropout(p=0.3, inplace=False)\n",
       "  )\n",
       ")"
      ]
     },
     "execution_count": 127,
     "metadata": {},
     "output_type": "execute_result"
    }
   ],
   "source": [
    "def init_weights(m):\n",
    "    for name, param in m.named_parameters():\n",
    "        if 'weight' in name:\n",
    "            nn.init.normal_(param.data, mean=0, std=0.01)\n",
    "        else:\n",
    "            nn.init.constant_(param.data, 0)\n",
    "            \n",
    "model.apply(init_weights)"
   ]
  },
  {
   "cell_type": "markdown",
   "metadata": {
    "id": "6fMQZFQTiCjx"
   },
   "source": [
    "Calculate the number of parameters."
   ]
  },
  {
   "cell_type": "code",
   "execution_count": 128,
   "metadata": {
    "colab": {
     "base_uri": "https://localhost:8080/"
    },
    "id": "f9w79-_fiByo",
    "outputId": "45630476-52bd-42b4-a5e0-7cbb68554989"
   },
   "outputs": [
    {
     "name": "stdout",
     "output_type": "stream",
     "text": [
      "The model has 9,342,213 trainable parameters\n"
     ]
    }
   ],
   "source": [
    "def count_parameters(model):\n",
    "    return sum(p.numel() for p in model.parameters() if p.requires_grad)\n",
    "\n",
    "print(f'The model has {count_parameters(model):,} trainable parameters')"
   ]
  },
  {
   "cell_type": "markdown",
   "metadata": {
    "id": "M9aNXTTZiHts"
   },
   "source": [
    "Create an optimizer."
   ]
  },
  {
   "cell_type": "code",
   "execution_count": 129,
   "metadata": {
    "id": "zkdoXq8aiEoF"
   },
   "outputs": [],
   "source": [
    "optimizer = optim.Adam(model.parameters(), lr = LEARNING_RT)"
   ]
  },
  {
   "cell_type": "markdown",
   "metadata": {
    "id": "xMICykcSiN_k"
   },
   "source": [
    "Initialize the loss function. The pad token needs to be ignored."
   ]
  },
  {
   "cell_type": "code",
   "execution_count": 130,
   "metadata": {
    "colab": {
     "base_uri": "https://localhost:8080/"
    },
    "id": "xbjJMMSZiL7e",
    "outputId": "4105b4fc-7e8c-4afb-cd18-f5763c590eb1"
   },
   "outputs": [
    {
     "name": "stdout",
     "output_type": "stream",
     "text": [
      "<pad> token index:  1\n"
     ]
    }
   ],
   "source": [
    "#TRG_PAD_IDX = TRG.vocab.stoi[TRG.pad_token]\n",
    "print('<pad> token index: ', PAD_IDX)\n",
    "## we will ignore the pad token in true target set\n",
    "criterion = nn.CrossEntropyLoss(ignore_index = PAD_IDX)"
   ]
  },
  {
   "cell_type": "markdown",
   "metadata": {
    "id": "eB5clLvrieXF"
   },
   "source": [
    "### Testing Model With a Single Batch\n",
    "We will run the model with first training batch to test our code."
   ]
  },
  {
   "cell_type": "code",
   "execution_count": 131,
   "metadata": {
    "colab": {
     "base_uri": "https://localhost:8080/"
    },
    "id": "4yA7zAVBidXt",
    "outputId": "e16f4207-7044-4ab4-ef8d-db808f02c1bd"
   },
   "outputs": [
    {
     "name": "stdout",
     "output_type": "stream",
     "text": [
      "tensor(0.5426, device='cuda:0', grad_fn=<DivBackward0>)\n"
     ]
    }
   ],
   "source": [
    "clip = 1\n",
    "model.train()\n",
    "\n",
    "for i, (src, trg) in enumerate(train_iter):\n",
    "    \n",
    "    # read the source sentence and target sentence\n",
    "    # src = batch.SRC\n",
    "    # trg = batch.TRG\n",
    "    src, trg = src.to(device), trg.to(device)\n",
    "\n",
    "    # clear the gradient buffer\n",
    "    optimizer.zero_grad()\n",
    "\n",
    "    # forward pass\n",
    "    output = model(src, trg)\n",
    "    #trg = [trg len, batch size]\n",
    "    #output = [trg len, batch size, output dim]\n",
    "\n",
    "    output_dim = output.shape[-1]\n",
    "\n",
    "    output = output[1:].view(-1, output_dim)\n",
    "    trg = trg[1:].view(-1)\n",
    "\n",
    "    #trg = [(trg len - 1) * batch size]\n",
    "    #output = [(trg len - 1) * batch size, output dim]\n",
    "    \n",
    "    # compute the loss\n",
    "    loss = criterion(output, trg)\n",
    "    \n",
    "    # compute the gradients\n",
    "    loss.backward()\n",
    "\n",
    "    # clip the gradients to prevent gradient explosion problem\n",
    "    torch.nn.utils.clip_grad_norm_(model.parameters(), clip)\n",
    "    \n",
    "    # update the parameters\n",
    "    optimizer.step()\n",
    "\n",
    "    print(loss/src.shape[1])\n",
    "    break"
   ]
  },
  {
   "cell_type": "markdown",
   "metadata": {
    "id": "tl_MI5-Hlp60"
   },
   "source": [
    "## Fully training process\n",
    "If we test our code successfully. We will start the fully training loop as follows:"
   ]
  },
  {
   "cell_type": "code",
   "execution_count": 132,
   "metadata": {
    "id": "dg1-WRQ3lqRA"
   },
   "outputs": [],
   "source": [
    "def train(model, iterator, optimizer, criterion, clip):\n",
    "    \n",
    "    model.train()\n",
    "    \n",
    "    epoch_loss = 0\n",
    "    \n",
    "    for i, (src, trg) in enumerate(iterator):\n",
    "        \n",
    "        src, trg = src.to(device), trg.to(device)\n",
    "        \n",
    "        optimizer.zero_grad()\n",
    "        \n",
    "        output = model(src, trg)\n",
    "        \n",
    "        #trg = [trg len, batch size]\n",
    "        #output = [trg len, batch size, output dim]\n",
    "        \n",
    "        output_dim = output.shape[-1]\n",
    "        \n",
    "        output = output[1:].view(-1, output_dim)\n",
    "        trg = trg[1:].view(-1)\n",
    "        \n",
    "        # loss function works only 2d logits, 1d targets\n",
    "        # so flatten the trg, output tensors. Ignore the <sos> token\n",
    "        # trg shape shape should be [(sequence_len - 1) * batch_size]\n",
    "        # output shape should be [(sequence_len - 1) * batch_size, output_dim]\n",
    "        \n",
    "        loss = criterion(output, trg)\n",
    "        \n",
    "        loss.backward()\n",
    "        \n",
    "        torch.nn.utils.clip_grad_norm_(model.parameters(), clip)\n",
    "        \n",
    "        optimizer.step()\n",
    "        \n",
    "        epoch_loss += loss.item()\n",
    "        \n",
    "    return epoch_loss / len(iterator)"
   ]
  },
  {
   "cell_type": "markdown",
   "metadata": {
    "id": "XSQfQpQclx1C"
   },
   "source": [
    "...and the evaluation loop, remembering to set the model to `eval` mode and turn off teaching forcing (i.e., teach forcing rate = 0)."
   ]
  },
  {
   "cell_type": "code",
   "execution_count": 133,
   "metadata": {
    "id": "HIy-h7i5lwd4"
   },
   "outputs": [],
   "source": [
    "def evaluate(model, iterator, criterion):\n",
    "    \n",
    "    model.eval()\n",
    "    \n",
    "    epoch_loss = 0\n",
    "    \n",
    "    with torch.no_grad():\n",
    "    \n",
    "        for i, (src, trg) in enumerate(iterator):\n",
    "\n",
    "            src, trg = src.to(device), trg.to(device)\n",
    "\n",
    "            output = model(src, trg, 0) # turn off teacher forcing\n",
    "\n",
    "            #trg = [trg len, batch size]\n",
    "            #output = [trg len, batch size, output dim]\n",
    "\n",
    "            output_dim = output.shape[-1]\n",
    "            \n",
    "            output = output[1:].view(-1, output_dim)\n",
    "            trg = trg[1:].view(-1)\n",
    "\n",
    "            #trg = [(trg len - 1) * batch size]\n",
    "            #output = [(trg len - 1) * batch size, output dim]\n",
    "\n",
    "            loss = criterion(output, trg)\n",
    "\n",
    "            epoch_loss += loss.item()\n",
    "        \n",
    "    return epoch_loss / len(iterator)"
   ]
  },
  {
   "cell_type": "markdown",
   "metadata": {
    "id": "iUeJF_N1NnCD"
   },
   "source": [
    "Count the running time."
   ]
  },
  {
   "cell_type": "code",
   "execution_count": 134,
   "metadata": {
    "id": "H3rv8T7Vly1c"
   },
   "outputs": [],
   "source": [
    "def epoch_time(start_time, end_time):\n",
    "    elapsed_time = end_time - start_time\n",
    "    elapsed_mins = int(elapsed_time / 60)\n",
    "    elapsed_secs = int(elapsed_time - (elapsed_mins * 60))\n",
    "    return elapsed_mins, elapsed_secs"
   ]
  },
  {
   "cell_type": "markdown",
   "metadata": {
    "id": "gQ8OyS2aNs3_"
   },
   "source": [
    "## Training model. \n",
    "\n",
    "We will train the model for 10 epochs. At the end of each epoch, we will save a checkpoint and evaluate on the development set. We will print out the loss and perplexity of train and dev set."
   ]
  },
  {
   "cell_type": "code",
   "execution_count": 135,
   "metadata": {
    "colab": {
     "base_uri": "https://localhost:8080/"
    },
    "id": "oaDCA9HOl4XP",
    "outputId": "604782fa-f223-4e0c-bcff-94243292ee5f"
   },
   "outputs": [
    {
     "name": "stdout",
     "output_type": "stream",
     "text": [
      "Epoch: 01 | Time: 1m 23s\n",
      "\tTrain Loss: 4.628 | Train PPL: 102.349\n",
      "\t Val. Loss: 4.840 |  Val. PPL: 126.474\n",
      "Epoch: 02 | Time: 1m 22s\n",
      "\tTrain Loss: 3.890 | Train PPL:  48.896\n",
      "\t Val. Loss: 4.256 |  Val. PPL:  70.504\n",
      "Epoch: 03 | Time: 1m 23s\n",
      "\tTrain Loss: 3.421 | Train PPL:  30.607\n",
      "\t Val. Loss: 3.880 |  Val. PPL:  48.435\n",
      "Epoch: 04 | Time: 1m 21s\n",
      "\tTrain Loss: 3.069 | Train PPL:  21.530\n",
      "\t Val. Loss: 3.775 |  Val. PPL:  43.612\n",
      "Epoch: 05 | Time: 1m 22s\n",
      "\tTrain Loss: 2.793 | Train PPL:  16.326\n",
      "\t Val. Loss: 3.680 |  Val. PPL:  39.661\n",
      "Epoch: 06 | Time: 1m 21s\n",
      "\tTrain Loss: 2.568 | Train PPL:  13.038\n",
      "\t Val. Loss: 3.563 |  Val. PPL:  35.273\n",
      "Epoch: 07 | Time: 1m 24s\n",
      "\tTrain Loss: 2.378 | Train PPL:  10.782\n",
      "\t Val. Loss: 3.536 |  Val. PPL:  34.318\n",
      "Epoch: 08 | Time: 1m 23s\n",
      "\tTrain Loss: 2.209 | Train PPL:   9.103\n",
      "\t Val. Loss: 3.576 |  Val. PPL:  35.726\n",
      "Epoch: 09 | Time: 1m 22s\n",
      "\tTrain Loss: 2.050 | Train PPL:   7.768\n",
      "\t Val. Loss: 3.511 |  Val. PPL:  33.472\n",
      "Epoch: 10 | Time: 1m 21s\n",
      "\tTrain Loss: 1.917 | Train PPL:   6.798\n",
      "\t Val. Loss: 3.533 |  Val. PPL:  34.239\n"
     ]
    }
   ],
   "source": [
    "N_EPOCHS = 10\n",
    "CLIP = 1\n",
    "\n",
    "best_valid_loss = float('inf')\n",
    "\n",
    "for epoch in range(N_EPOCHS):\n",
    "    \n",
    "    start_time = time.time()\n",
    "    \n",
    "    train_loss = train(model, train_iter, optimizer, criterion, CLIP)\n",
    "    valid_loss = evaluate(model, valid_iter, criterion)\n",
    "    \n",
    "    end_time = time.time()\n",
    "    \n",
    "    epoch_mins, epoch_secs = epoch_time(start_time, end_time)\n",
    "    \n",
    "    # Create checkpoint at end of each epoch\n",
    "    state_dict_model = model.state_dict() \n",
    "    state = {\n",
    "        'epoch': epoch,\n",
    "        'state_dict': state_dict_model,\n",
    "        'optimizer': optimizer.state_dict()\n",
    "        }\n",
    "\n",
    "    torch.save(state, \"./drive/My Drive/Colab Notebooks/ckpt/seq2seq_\"+str(epoch+1)+\".pt\")\n",
    "\n",
    "    print(f'Epoch: {epoch+1:02} | Time: {epoch_mins}m {epoch_secs}s')\n",
    "    print(f'\\tTrain Loss: {train_loss:.3f} | Train PPL: {math.exp(train_loss):7.3f}')\n",
    "    print(f'\\t Val. Loss: {valid_loss:.3f} |  Val. PPL: {math.exp(valid_loss):7.3f}')"
   ]
  },
  {
   "cell_type": "markdown",
   "metadata": {
    "id": "X7oPEKhFwIR3"
   },
   "source": [
    "## 6. Load Checkpoint\n",
    "We will use the best model for the following process."
   ]
  },
  {
   "cell_type": "markdown",
   "metadata": {
    "id": "MDDP7hB8wZId"
   },
   "source": [
    "Load the saved TRG and SRC fields:"
   ]
  },
  {
   "cell_type": "code",
   "execution_count": 138,
   "metadata": {
    "id": "3kAeYOfCwW_U"
   },
   "outputs": [],
   "source": [
    "with open(\"./drive/My Drive/Colab Notebooks/ckpt/TRG.Field\",\"rb\") as f:\n",
    "     TRG_saved = pickle.load(f)\n",
    "\n",
    "with open(\"./drive/My Drive/Colab Notebooks/ckpt/SRC.Field\",\"rb\") as f:\n",
    "     SRC_saved = pickle.load(f)"
   ]
  },
  {
   "cell_type": "markdown",
   "metadata": {
    "id": "yGMLkVAzzLIW"
   },
   "source": [
    "Load trained model to `model_best` and put model on device."
   ]
  },
  {
   "cell_type": "code",
   "execution_count": 139,
   "metadata": {
    "id": "TCp-dPjIzP3p"
   },
   "outputs": [],
   "source": [
    "# INPUT_DIM = len(SRC_saved.vocab)\n",
    "# OUTPUT_DIM = len(TRG_saved.vocab)\n",
    "INPUT_DIM = len(src_vocab) # tokens in source vocabulary\n",
    "OUTPUT_DIM = len(trg_vocab) # tokens in target vocabulary\n",
    "ENC_EMB_DIM = 256\n",
    "DEC_EMB_DIM = 256\n",
    "ENC_HID_DIM = 512\n",
    "DEC_HID_DIM = 512\n",
    "ENC_DROPOUT = 0.5\n",
    "DEC_DROPOUT = 0.3\n",
    "N_LAYERS = 1\n",
    "LEARNING_RT = 0.001\n",
    "enc = Encoder(INPUT_DIM, ENC_EMB_DIM, ENC_HID_DIM, N_LAYERS, ENC_DROPOUT)\n",
    "dec = Decoder(OUTPUT_DIM, DEC_EMB_DIM, DEC_HID_DIM, N_LAYERS, DEC_DROPOUT)\n",
    "\n",
    "model_best = Seq2Seq(enc, dec, device)"
   ]
  },
  {
   "cell_type": "code",
   "execution_count": 140,
   "metadata": {
    "id": "wBmOZKhlzP6x"
   },
   "outputs": [],
   "source": [
    "model_best.load_state_dict(torch.load('./drive/My Drive/Colab Notebooks/ckpt/seq2seq_9.pt')['state_dict'])\n",
    "model_best = model_best.to(device)"
   ]
  },
  {
   "cell_type": "markdown",
   "metadata": {
    "id": "fR52wcB71MTN"
   },
   "source": [
    "Pre-process source language and get input tensor"
   ]
  },
  {
   "cell_type": "code",
   "execution_count": 141,
   "metadata": {
    "colab": {
     "base_uri": "https://localhost:8080/"
    },
    "id": "2B2UZ-Aj0_7P",
    "outputId": "cb16b69a-1ce7-4a62-f27e-204c22c096b1"
   },
   "outputs": [
    {
     "name": "stdout",
     "output_type": "stream",
     "text": [
      "src_token: ['une', 'femme', 'avec', 'un', 'gros', 'sac', 'passe', 'par', 'une', 'porte', '.']\n",
      "shape of source language:  torch.Size([13, 1])\n"
     ]
    }
   ],
   "source": [
    "### LEGACY TORCHTEXT ###\n",
    "\n",
    "model_best.eval()\n",
    "src_token = SRC_saved.preprocess('Une femme avec un gros sac passe par une porte.')\n",
    "print(\"src_token:\", src_token)\n",
    "src_tensor = SRC_saved.process([src_token], device=device)\n",
    "print(\"shape of source language: \", src_tensor.shape)"
   ]
  },
  {
   "cell_type": "code",
   "execution_count": 147,
   "metadata": {
    "colab": {
     "base_uri": "https://localhost:8080/"
    },
    "id": "0JVifCBHei7K",
    "outputId": "3d4a6bd1-3ef9-4ca6-f47f-e866bad232f2"
   },
   "outputs": [
    {
     "name": "stdout",
     "output_type": "stream",
     "text": [
      "src_token: ['Une', 'femme', 'avec', 'un', 'gros', 'sac', 'passe', 'par', 'une', 'porte', '.']\n",
      "shape of source language:  torch.Size([13, 1])\n"
     ]
    }
   ],
   "source": [
    "### LATEST TORCHTEXT ###\n",
    "\n",
    "model_best.eval()\n",
    "src_token = spacy_fr_tokenizer('Une femme avec un gros sac passe par une porte.')\n",
    "print(\"src_token:\", src_token)\n",
    "src_tensor = torch.tensor([src_vocab[token.lower()] for token in src_token], dtype=torch.long)\n",
    "src_tensor = torch.cat([torch.tensor([BOS_IDX]), src_tensor, torch.tensor([EOS_IDX])], dim=0)\n",
    "src_tensor = src_tensor.unsqueeze(1).to(device)\n",
    "print(\"shape of source language: \", src_tensor.shape)"
   ]
  },
  {
   "cell_type": "markdown",
   "metadata": {
    "id": "4x0XCWoY1zPZ"
   },
   "source": [
    "We assume this is a test sample so we don't have the gold target text. We create a placeholder for target language which only includes 64 `<pad>` tokens (i.e., the maximal length of our translated generation is 64)."
   ]
  },
  {
   "cell_type": "code",
   "execution_count": 148,
   "metadata": {
    "colab": {
     "base_uri": "https://localhost:8080/"
    },
    "id": "AplyDtKz1KS9",
    "outputId": "543666ed-2f0d-43e3-db71-12f885516769"
   },
   "outputs": [
    {
     "name": "stdout",
     "output_type": "stream",
     "text": [
      "shape of target language:  torch.Size([66, 1])\n"
     ]
    }
   ],
   "source": [
    "### LEGACY TORCHTEXT ###\n",
    "\n",
    "trg_token = ['<pad>']*64\n",
    "trg_tensor = TRG_saved.process([trg_token],device=device)\n",
    "print(\"shape of target language: \", trg_tensor.shape)"
   ]
  },
  {
   "cell_type": "code",
   "execution_count": 150,
   "metadata": {
    "colab": {
     "base_uri": "https://localhost:8080/"
    },
    "id": "izfGvaZDf0iI",
    "outputId": "baf318bf-cba2-4b02-d9bc-fef3de74c88e"
   },
   "outputs": [
    {
     "name": "stdout",
     "output_type": "stream",
     "text": [
      "shape of target language:  torch.Size([66, 1])\n"
     ]
    }
   ],
   "source": [
    "### LATEST TORCHTEXT ###\n",
    "trg_token = ['<pad>']*64\n",
    "trg_tensor = torch.tensor([trg_vocab[token.lower()] for token in trg_token], dtype=torch.long)\n",
    "trg_tensor = torch.cat([torch.tensor([BOS_IDX]), trg_tensor, torch.tensor([EOS_IDX])], dim=0)\n",
    "trg_tensor = trg_tensor.unsqueeze(1).to(device)\n",
    "print(\"shape of target language: \", trg_tensor.shape)"
   ]
  },
  {
   "cell_type": "code",
   "execution_count": 151,
   "metadata": {
    "colab": {
     "base_uri": "https://localhost:8080/"
    },
    "id": "hAg8yOj61HKL",
    "outputId": "f382dbbd-727b-4fe6-ee15-37ed8ba4f8f6"
   },
   "outputs": [
    {
     "name": "stdout",
     "output_type": "stream",
     "text": [
      "shape of output translate:  torch.Size([65, 1, 5893])\n"
     ]
    }
   ],
   "source": [
    "output = model_best(src_tensor, trg_tensor, teacher_forcing_ratio = 0.0)\n",
    "output_dim = output.shape[-1]\n",
    "# get translation results, we ignore first token <sos> in both translation and target sentences. \n",
    "# output_translate = [(trg len - 1), batch, output dim] output dim is size of target vocabulary. \n",
    "output_translate = output[1:]\n",
    "print(\"shape of output translate: \", output_translate.size())"
   ]
  },
  {
   "cell_type": "markdown",
   "metadata": {
    "id": "V9iSIpaV5bzr"
   },
   "source": [
    "Detach the source input tensor to CPU device because our following process will operate on CPU. Then, squeeze the shape of `output_translate` to `[(trg len - 1),output dim]`. "
   ]
  },
  {
   "cell_type": "code",
   "execution_count": 152,
   "metadata": {
    "colab": {
     "base_uri": "https://localhost:8080/"
    },
    "id": "KtXb6Cz75C09",
    "outputId": "b6137ca9-e17e-44c0-e181-ace3693914b0"
   },
   "outputs": [
    {
     "name": "stdout",
     "output_type": "stream",
     "text": [
      "token indices in source language:  [  2   6  19  15   4 185 149 212  65   6 109   5   3]\n",
      "shape of logits for each prediction token in target language torch.Size([65, 5893])\n"
     ]
    }
   ],
   "source": [
    "source_language_token_ids = src_tensor[:,0].cpu().numpy()\n",
    "print(\"token indices in source language: \", source_language_token_ids)\n",
    "translation_logit = output_translate[:,0,:].squeeze(1)\n",
    "print(\"shape of logits for each prediction token in target language\", translation_logit.size())"
   ]
  },
  {
   "cell_type": "code",
   "execution_count": 153,
   "metadata": {
    "colab": {
     "base_uri": "https://localhost:8080/"
    },
    "id": "80F7qWb05Prb",
    "outputId": "cf118636-91dc-413f-d3a8-a2b3436a6d11"
   },
   "outputs": [
    {
     "name": "stdout",
     "output_type": "stream",
     "text": [
      "shape of unnormalized logits corresponding to the top prediction for each prediction token =  torch.Size([65, 1])\n",
      "token indices in target language:  [  4  14  13   4  59 265  10  41  49   4 928   5   3   3   3   3   3   3\n",
      "   3   3   3   3   3   3   3   3   3   3   3   3   3   3   3   3   3   3\n",
      "   3   3   3   3   3   3   3   3   3   3   3   3   3   3   3   3   3   3\n",
      "   3   3   3   3   3   3   3   3   3   3   3]\n"
     ]
    }
   ],
   "source": [
    "# Choose top 1 word from decoder's output, we get the probability and index of the word\n",
    "prob, token_id = translation_logit.data.topk(1)\n",
    "print(\"shape of unnormalized logits corresponding to the top prediction for each prediction token = \", prob.size())\n",
    "target_language_token_ids_along_with_pad = token_id.squeeze(1).cpu().numpy()\n",
    "print(\"token indices in target language: \", target_language_token_ids_along_with_pad) "
   ]
  },
  {
   "cell_type": "markdown",
   "metadata": {
    "id": "9Ns0cqJA1G3X"
   },
   "source": [
    "To get the translation in text, we will use a dictionary to convert index to word.\n"
   ]
  },
  {
   "cell_type": "code",
   "execution_count": 154,
   "metadata": {
    "colab": {
     "base_uri": "https://localhost:8080/"
    },
    "id": "2_tawtQC4XP8",
    "outputId": "ac90576f-29ee-4b2d-8977-4ad2bcaeb3d9"
   },
   "outputs": [
    {
     "name": "stdout",
     "output_type": "stream",
     "text": [
      "Source language: ['<bos>', 'une', 'femme', 'avec', 'un', 'gros', 'sac', 'passe', 'par', 'une', 'porte', '.']\n",
      "Our model translation:  a woman with a large bag is walking by a cow .\n",
      "Gold translation:  a woman with a large purse is walking by a gate.\n"
     ]
    }
   ],
   "source": [
    "# get source langauge in text\n",
    "src_language_token_strs = []\n",
    "for i in source_language_token_ids:\n",
    "    #if i == SRC.vocab.stoi['<eos>']:\n",
    "    if i == src_vocab.stoi['<eos>']:\n",
    "        break\n",
    "    else:\n",
    "        #token = SRC.vocab.itos[i]\n",
    "        token = src_vocab.itos[i]\n",
    "        src_language_token_strs.append(token)\n",
    "print(\"Source language:\", src_language_token_strs)\n",
    "\n",
    "# get machine translation in text\n",
    "trans_language = []\n",
    "for i in target_language_token_ids_along_with_pad:\n",
    "    #if i == TRG.vocab.stoi['<eos>']:\n",
    "    if i == trg_vocab.stoi['<eos>']:\n",
    "        break\n",
    "    else:\n",
    "        #token = TRG.vocab.itos[i]\n",
    "        token = trg_vocab.itos[i]\n",
    "        trans_language.append(token)\n",
    "print(\"Our model translation: \",  ' '.join(trans_language))\n",
    "print(\"Gold translation: \", \"a woman with a large purse is walking by a gate.\")"
   ]
  },
  {
   "cell_type": "code",
   "execution_count": null,
   "metadata": {
    "id": "Zm4Yx0Hqm9fh"
   },
   "outputs": [],
   "source": []
  },
  {
   "cell_type": "markdown",
   "metadata": {
    "id": "86njWz6Z_m1a"
   },
   "source": [
    "## 7. Evaluation \n"
   ]
  },
  {
   "cell_type": "markdown",
   "metadata": {
    "id": "L1WSy4bF_pm8"
   },
   "source": [
    "### Evaluation with perplexity\n",
    "\n",
    "[Perplexity](https://en.wikipedia.org/wiki/Perplexity) is an information theoretic measurement of how well probability model predicts a sample. Low perplexity values indicate a better fit.\n",
    "\n",
    "In language modeling, we build a language generation system with state distribution `q` which tries to mimic the real-world language with the state distribution `p` as much as possible. However, in practice we do not know the exact `p`, we only know $\\tilde{p}$  which is a sampled distribution (i.e., our dataset) from the real-world system. We use a perplexity with cross entropy $PPL( \\tilde{p} ,q)$. Perplexity is defined as: \n",
    "\n",
    "$PPL( \\tilde{p} ,q) = e^{Entropy[\\tilde{p},q]}$\n",
    "\n",
    "where $Entropy[\\tilde{p},q]$ is the `CrossEntropy` loss of our translation model, q is our translation system.\n",
    "We can directly use `math.exp(train_loss)` get the perplexity of our model. "
   ]
  },
  {
   "cell_type": "markdown",
   "metadata": {
    "id": "JFxWpf6R_gHo"
   },
   "source": [
    "### Evaluation with BLEU score\n",
    "\n",
    "The Bilingual Evaluation Understudy Score, or BLEU for short, is a metric for evaluating a generated sentence to a reference sentence.\n",
    "\n",
    "NLTK provides the [sentence_bleu()](http://www.nltk.org/api/nltk.translate.html#nltk.translate.bleu_score.sentence_bleu) function for evaluating a candidate sentence against one or more reference sentences."
   ]
  },
  {
   "cell_type": "code",
   "execution_count": 155,
   "metadata": {
    "id": "Uli2x7KsCUZZ"
   },
   "outputs": [],
   "source": [
    "from nltk.translate.bleu_score import sentence_bleu"
   ]
  },
  {
   "cell_type": "markdown",
   "metadata": {
    "id": "d6U9KrtSN1YT"
   },
   "source": [
    " Let's take a look at a simple example:"
   ]
  },
  {
   "cell_type": "code",
   "execution_count": 156,
   "metadata": {
    "colab": {
     "base_uri": "https://localhost:8080/"
    },
    "id": "fbrmfOKRN9BI",
    "outputId": "a92e8686-1a64-48b3-b15c-87e4abf178b9"
   },
   "outputs": [
    {
     "name": "stdout",
     "output_type": "stream",
     "text": [
      "1.0\n"
     ]
    }
   ],
   "source": [
    "# two references for one document\n",
    "from nltk.translate.bleu_score import corpus_bleu\n",
    "references = [[['this', 'is', 'a', 'test'], ['this', 'is' 'test']]]\n",
    "candidates = [['this', 'is', 'a', 'test']]\n",
    "score = corpus_bleu(references, candidates)\n",
    "print(score)"
   ]
  },
  {
   "cell_type": "markdown",
   "metadata": {
    "id": "2MOjyg8AOAHP"
   },
   "source": [
    "By default, the sentence_bleu() and corpus_bleu() scores calculate the cumulative 4-gram BLEU score, also called **BLEU-4**. The weights for the BLEU-4 are 1/4 (25%) or 0.25 for each of the 1-gram, 2-gram, 3-gram and 4-gram scores. "
   ]
  },
  {
   "cell_type": "code",
   "execution_count": 157,
   "metadata": {
    "colab": {
     "base_uri": "https://localhost:8080/"
    },
    "id": "xU-NaJr0N9wf",
    "outputId": "d8133775-4912-4459-f38b-0c707dd60974"
   },
   "outputs": [
    {
     "name": "stdout",
     "output_type": "stream",
     "text": [
      "tokens:\t ['a', 'woman', 'with', 'a', 'large', 'purse', 'is', 'walking', 'by', 'a', 'gate', '.']\n",
      "Our model translation:\t ['a', 'woman', 'with', 'a', 'large', 'bag', 'is', 'walking', 'by', 'a', 'cow', '.']\n",
      "BLEU score: 0.5452469119630863\n"
     ]
    }
   ],
   "source": [
    "# now, use BLEU evaluate our translation\n",
    "\n",
    "# tokenize our golden sentence\n",
    "#tokens = TRG.preprocess(\"a woman with a large purse is walking by a gate.\")\n",
    "tokens = spacy_en_tokenizer(\"a woman with a large purse is walking by a gate.\")\n",
    "print(\"tokens:\\t\", tokens)\n",
    "reference = [[tokens]]\n",
    "print(\"Our model translation:\\t\", trans_language)\n",
    "our_translation = [trans_language]\n",
    "score = corpus_bleu(reference, our_translation) #corpus_bleu(reference, our_translation, weights=(0.25, 0.25, 0.25, 0.25))\n",
    "print(\"BLEU score:\", score)"
   ]
  },
  {
   "cell_type": "markdown",
   "metadata": {
    "id": "NX7COgIhOPnt"
   },
   "source": [
    "The cumulative and individual 1-gram BLEU use the same weights, e.g. (1, 0, 0, 0). The 2-gram weights assign a 50% to each of 1-gram and 2-gram and the 3-gram weights are 33% for each of the 1, 2 and 3-gram scores.\n",
    "\n",
    "Let’s make this concrete by calculating the cumulative scores for BLEU-1, BLEU-2, BLEU-3 and BLEU-4:"
   ]
  },
  {
   "cell_type": "code",
   "execution_count": 158,
   "metadata": {
    "colab": {
     "base_uri": "https://localhost:8080/"
    },
    "id": "o9OZ3SxrOQCb",
    "outputId": "1a716c94-30ca-4670-81c5-e26e451143a3"
   },
   "outputs": [
    {
     "name": "stdout",
     "output_type": "stream",
     "text": [
      "Cumulative 1-gram: 0.833333\n",
      "Cumulative 2-gram: 0.728219\n",
      "Cumulative 3-gram: 0.645287\n",
      "Cumulative 4-gram: 0.545247\n"
     ]
    }
   ],
   "source": [
    "# cumulative BLEU scores\n",
    "print('Cumulative 1-gram: %f' % corpus_bleu(reference, our_translation, weights=(1, 0, 0, 0)))\n",
    "print('Cumulative 2-gram: %f' % corpus_bleu(reference, our_translation, weights=(0.5, 0.5, 0, 0)))\n",
    "print('Cumulative 3-gram: %f' % corpus_bleu(reference, our_translation, weights=(0.33, 0.33, 0.33, 0)))\n",
    "print('Cumulative 4-gram: %f' % corpus_bleu(reference, our_translation, weights=(0.25, 0.25, 0.25, 0.25)))"
   ]
  },
  {
   "cell_type": "markdown",
   "metadata": {
    "id": "bTBzai_C9tN0"
   },
   "source": [
    "## Reference \n",
    "* https://pytorch.org/docs/stable/nn.html\n",
    "* https://github.com/bentrevett/pytorch-seq2seq/blob/master/1%20-%20Sequence%20to%20Sequence%20Learning%20with%20Neural%20Networks.ipynb\n",
    "* https://arxiv.org/abs/1409.3215\n",
    "* https://github.com/graviraja/seq2seq\n",
    "* https://github.com/eladhoffer/seq2seq.pytorch\n",
    "* https://github.com/spro/practical-pytorch/tree/master/seq2seq-translation\n",
    "* http://mlexplained.com/2018/02/08/a-comprehensive-tutorial-to-torchtext/\n",
    "* https://machinelearningmastery.com/calculate-bleu-score-for-text-python/\n",
    "* https://leimao.github.io/blog/Entropy-Perplexity/"
   ]
  },
  {
   "cell_type": "code",
   "execution_count": null,
   "metadata": {
    "id": "G7lQdLyN6977"
   },
   "outputs": [],
   "source": []
  }
 ],
 "metadata": {
  "accelerator": "GPU",
  "colab": {
   "provenance": []
  },
  "gpuClass": "standard",
  "kernelspec": {
   "display_name": "Python 3 (ipykernel)",
   "language": "python",
   "name": "python3"
  },
  "language_info": {
   "codemirror_mode": {
    "name": "ipython",
    "version": 3
   },
   "file_extension": ".py",
   "mimetype": "text/x-python",
   "name": "python",
   "nbconvert_exporter": "python",
   "pygments_lexer": "ipython3",
   "version": "3.9.15"
  }
 },
 "nbformat": 4,
 "nbformat_minor": 1
}
