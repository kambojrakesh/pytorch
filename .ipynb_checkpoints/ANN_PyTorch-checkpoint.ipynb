{
 "cells": [
  {
   "cell_type": "code",
   "execution_count": 83,
   "id": "9ab2bb76",
   "metadata": {},
   "outputs": [],
   "source": [
    "import pandas as pd\n",
    "import sklearn\n",
    "data = pd.read_csv(\"diabetes.csv\")"
   ]
  },
  {
   "cell_type": "code",
   "execution_count": 84,
   "id": "bc05aa9d",
   "metadata": {},
   "outputs": [],
   "source": [
    "y = data[\"Outcome\"].values\n",
    "x = data.drop(\"Outcome\", axis=1).values"
   ]
  },
  {
   "cell_type": "code",
   "execution_count": 85,
   "id": "44ac963c",
   "metadata": {},
   "outputs": [],
   "source": [
    "from sklearn.model_selection import train_test_split\n",
    "x_train,x_test, y_train, y_test= train_test_split(x, y, test_size = 0.2, random_state=40)"
   ]
  },
  {
   "cell_type": "code",
   "execution_count": 86,
   "id": "017b42fb",
   "metadata": {},
   "outputs": [
    {
     "data": {
      "text/plain": [
       "torch.Size([614, 8])"
      ]
     },
     "execution_count": 86,
     "metadata": {},
     "output_type": "execute_result"
    }
   ],
   "source": [
    "train_x.shape"
   ]
  },
  {
   "cell_type": "code",
   "execution_count": 87,
   "id": "6f58f5c1",
   "metadata": {},
   "outputs": [],
   "source": [
    "import torch\n",
    "import torch.nn as nn\n",
    "import torch.nn.functional as F"
   ]
  },
  {
   "cell_type": "code",
   "execution_count": 95,
   "id": "ef072c40",
   "metadata": {},
   "outputs": [],
   "source": [
    "x_train = torch.FloatTensor(x_train)\n",
    "y_train = torch.LongTensor(y_train)\n",
    "\n",
    "x_test = torch.FloatTensor(x_test)\n",
    "y_test = torch.LongTensor(y_test)"
   ]
  },
  {
   "cell_type": "code",
   "execution_count": 102,
   "id": "4d42e4ff",
   "metadata": {},
   "outputs": [],
   "source": [
    "class ANN(nn.Module):\n",
    "    def __init__(self, input_dim=8, hidden1=20, hidden2=20, output_dim=2):\n",
    "        super().__init__()\n",
    "        self.f_c1 = nn.Linear(input_dim, hidden1)\n",
    "        self.f_c2 = nn.Linear(hidden1, hidden2)\n",
    "        self.out = nn.Linear(hidden2, output_dim)\n",
    "        \n",
    "    def forward(self, x):\n",
    "        x  = F.relu(self.f_c1(x))\n",
    "        x  = F.relu(self.f_c2(x))\n",
    "        x = self.out(x)\n",
    "        return x    \n",
    "        "
   ]
  },
  {
   "cell_type": "code",
   "execution_count": 103,
   "id": "5f0a08df",
   "metadata": {},
   "outputs": [
    {
     "data": {
      "text/plain": [
       "<torch._C.Generator at 0x1acaa943a70>"
      ]
     },
     "execution_count": 103,
     "metadata": {},
     "output_type": "execute_result"
    }
   ],
   "source": [
    "torch.manual_seed(20)"
   ]
  },
  {
   "cell_type": "code",
   "execution_count": 104,
   "id": "95a49a33",
   "metadata": {},
   "outputs": [],
   "source": [
    "model = ANN()"
   ]
  },
  {
   "cell_type": "code",
   "execution_count": 105,
   "id": "d407582f",
   "metadata": {},
   "outputs": [
    {
     "data": {
      "text/plain": [
       "<bound method Module.parameters of ANN(\n",
       "  (f_c1): Linear(in_features=8, out_features=20, bias=True)\n",
       "  (f_c2): Linear(in_features=20, out_features=20, bias=True)\n",
       "  (out): Linear(in_features=20, out_features=2, bias=True)\n",
       ")>"
      ]
     },
     "execution_count": 105,
     "metadata": {},
     "output_type": "execute_result"
    }
   ],
   "source": [
    "model.parameters"
   ]
  },
  {
   "cell_type": "code",
   "execution_count": 106,
   "id": "a23299e4",
   "metadata": {},
   "outputs": [],
   "source": [
    "loss_function = nn.CrossEntropyLoss()\n",
    "optimizer = torch.optim.Adam(model.parameters(), lr=0.01)"
   ]
  },
  {
   "cell_type": "code",
   "execution_count": 112,
   "id": "67c8a331",
   "metadata": {},
   "outputs": [
    {
     "name": "stdout",
     "output_type": "stream",
     "text": [
      "epoch number 100 is loss 0.3326738774776459\n",
      "epoch number 200 is loss 0.32030564546585083\n",
      "epoch number 300 is loss 0.30972862243652344\n",
      "epoch number 400 is loss 0.2962019443511963\n",
      "epoch number 500 is loss 0.283670574426651\n"
     ]
    }
   ],
   "source": [
    "#train the model\n",
    "epoches = 500\n",
    "final_losses = []\n",
    "\n",
    "for i in range(epoches):\n",
    "    i = i + 1\n",
    "    y_pred = model.forward(x_train)\n",
    "    loss = loss_function(y_pred, y_train)\n",
    "    if i%100 == 0:\n",
    "        print(f\"epoch number {i} is loss {loss}\")\n",
    "    final_losses.append(loss)\n",
    "    optimizer.zero_grad()\n",
    "    loss.backward()\n",
    "    optimizer.step()"
   ]
  },
  {
   "cell_type": "code",
   "execution_count": 121,
   "id": "6863532a",
   "metadata": {},
   "outputs": [],
   "source": [
    "#prediction\n",
    "\n",
    "predictions = []\n",
    "with torch.no_grad():\n",
    "    for i, data in enumerate(x_test):\n",
    "        predictions.append(model(data).argmax().item())"
   ]
  },
  {
   "cell_type": "code",
   "execution_count": 123,
   "id": "50d2613b",
   "metadata": {},
   "outputs": [],
   "source": [
    "#predictions"
   ]
  },
  {
   "cell_type": "code",
   "execution_count": null,
   "id": "0a8e19c8",
   "metadata": {},
   "outputs": [],
   "source": []
  }
 ],
 "metadata": {
  "kernelspec": {
   "display_name": "Python 3 (ipykernel)",
   "language": "python",
   "name": "python3"
  },
  "language_info": {
   "codemirror_mode": {
    "name": "ipython",
    "version": 3
   },
   "file_extension": ".py",
   "mimetype": "text/x-python",
   "name": "python",
   "nbconvert_exporter": "python",
   "pygments_lexer": "ipython3",
   "version": "3.9.15"
  }
 },
 "nbformat": 4,
 "nbformat_minor": 5
}
